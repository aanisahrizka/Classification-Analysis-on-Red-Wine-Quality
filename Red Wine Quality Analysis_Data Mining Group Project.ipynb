{
  "nbformat": 4,
  "nbformat_minor": 0,
  "metadata": {
    "colab": {
      "name": "UAS Data Mining Erlina-Ervaran-Aanisah-David .ipynb",
      "provenance": [],
      "collapsed_sections": [
        "KsA7SJ5WQZqm"
      ]
    },
    "kernelspec": {
      "name": "python3",
      "display_name": "Python 3"
    }
  },
  "cells": [
    {
      "cell_type": "markdown",
      "metadata": {
        "id": "T7XoMJoENajo"
      },
      "source": [
        "# RED WINE QUALITY\n"
      ]
    },
       {
      "cell_type": "markdown",
      "metadata": {
        "id": "G8qODJBzQg5N"
      },
      "source": [
        "#Import Data"
      ]
    },
    {
      "cell_type": "code",
      "metadata": {
        "id": "xv_xg_vwYI95",
        "colab": {
          "base_uri": "https://localhost:8080/"
        },
        "outputId": "70777084-eb75-48a5-bbdc-b55ee9319e31"
      },
      "source": [
        "!pip install graphviz dtreeviz\n",
        "!mkdir data\n",
        " \n",
        "import warnings; warnings.simplefilter('ignore')\n",
        " \n",
        "import numpy as np, matplotlib.pyplot as plt, pandas as pd, seaborn as sns\n",
        "sns.set(style=\"ticks\", color_codes=True)\n",
        "from matplotlib.colors import ListedColormap\n",
        "from sklearn import svm, preprocessing\n",
        "from sklearn.neural_network import MLPClassifier\n",
        "from sklearn.linear_model import LogisticRegression\n",
        "from sklearn.tree import DecisionTreeClassifier\n",
        "from sklearn.neighbors import KNeighborsClassifier\n",
        "from sklearn.gaussian_process.kernels import RBF\n",
        "from sklearn.svm import SVC\n",
        "from sklearn.ensemble import RandomForestClassifier, AdaBoostClassifier\n",
        "from sklearn.naive_bayes import GaussianNB\n",
        "from sklearn.datasets import make_blobs, make_moons, make_circles, make_classification\n",
        "from sklearn.model_selection import train_test_split\n",
        "from sklearn.metrics import classification_report, confusion_matrix, accuracy_score\n",
        "from sklearn.ensemble import VotingClassifier\n",
        "from sklearn import model_selection\n",
        "from collections import Counter\n",
        "import warnings; warnings.simplefilter('ignore')"
      ],
      "execution_count": null,
      "outputs": [
        {
          "output_type": "stream",
          "text": [
            "Requirement already satisfied: graphviz in /usr/local/lib/python3.6/dist-packages (0.10.1)\n",
            "Collecting dtreeviz\n",
            "\u001b[?25l  Downloading https://files.pythonhosted.org/packages/66/46/3b9448e38808e12324fdd26ce89d1d180e71cccf6b3946dd0d0afe0cfde6/dtreeviz-1.1.4.tar.gz (50kB)\n",
            "\u001b[K     |████████████████████████████████| 51kB 2.2MB/s \n",
            "\u001b[?25hRequirement already satisfied: pandas in /usr/local/lib/python3.6/dist-packages (from dtreeviz) (1.1.5)\n",
            "Requirement already satisfied: numpy in /usr/local/lib/python3.6/dist-packages (from dtreeviz) (1.19.5)\n",
            "Requirement already satisfied: scikit-learn in /usr/local/lib/python3.6/dist-packages (from dtreeviz) (0.22.2.post1)\n",
            "Requirement already satisfied: matplotlib in /usr/local/lib/python3.6/dist-packages (from dtreeviz) (3.2.2)\n",
            "Collecting colour\n",
            "  Downloading https://files.pythonhosted.org/packages/74/46/e81907704ab203206769dee1385dc77e1407576ff8f50a0681d0a6b541be/colour-0.1.5-py2.py3-none-any.whl\n",
            "Requirement already satisfied: pytest in /usr/local/lib/python3.6/dist-packages (from dtreeviz) (3.6.4)\n",
            "Requirement already satisfied: pytz>=2017.2 in /usr/local/lib/python3.6/dist-packages (from pandas->dtreeviz) (2018.9)\n",
            "Requirement already satisfied: python-dateutil>=2.7.3 in /usr/local/lib/python3.6/dist-packages (from pandas->dtreeviz) (2.8.1)\n",
            "Requirement already satisfied: joblib>=0.11 in /usr/local/lib/python3.6/dist-packages (from scikit-learn->dtreeviz) (1.0.0)\n",
            "Requirement already satisfied: scipy>=0.17.0 in /usr/local/lib/python3.6/dist-packages (from scikit-learn->dtreeviz) (1.4.1)\n",
            "Requirement already satisfied: cycler>=0.10 in /usr/local/lib/python3.6/dist-packages (from matplotlib->dtreeviz) (0.10.0)\n",
            "Requirement already satisfied: pyparsing!=2.0.4,!=2.1.2,!=2.1.6,>=2.0.1 in /usr/local/lib/python3.6/dist-packages (from matplotlib->dtreeviz) (2.4.7)\n",
            "Requirement already satisfied: kiwisolver>=1.0.1 in /usr/local/lib/python3.6/dist-packages (from matplotlib->dtreeviz) (1.3.1)\n",
            "Requirement already satisfied: more-itertools>=4.0.0 in /usr/local/lib/python3.6/dist-packages (from pytest->dtreeviz) (8.6.0)\n",
            "Requirement already satisfied: py>=1.5.0 in /usr/local/lib/python3.6/dist-packages (from pytest->dtreeviz) (1.10.0)\n",
            "Requirement already satisfied: atomicwrites>=1.0 in /usr/local/lib/python3.6/dist-packages (from pytest->dtreeviz) (1.4.0)\n",
            "Requirement already satisfied: attrs>=17.4.0 in /usr/local/lib/python3.6/dist-packages (from pytest->dtreeviz) (20.3.0)\n",
            "Requirement already satisfied: pluggy<0.8,>=0.5 in /usr/local/lib/python3.6/dist-packages (from pytest->dtreeviz) (0.7.1)\n",
            "Requirement already satisfied: six>=1.10.0 in /usr/local/lib/python3.6/dist-packages (from pytest->dtreeviz) (1.15.0)\n",
            "Requirement already satisfied: setuptools in /usr/local/lib/python3.6/dist-packages (from pytest->dtreeviz) (51.3.3)\n",
            "Building wheels for collected packages: dtreeviz\n",
            "  Building wheel for dtreeviz (setup.py) ... \u001b[?25l\u001b[?25hdone\n",
            "  Created wheel for dtreeviz: filename=dtreeviz-1.1.4-cp36-none-any.whl size=53568 sha256=c8d4b1cc92d5411bd15ef68ce838c3d6b24ed3b0cb8ac56b527e4505a82a504e\n",
            "  Stored in directory: /root/.cache/pip/wheels/6a/1b/01/8d804e4d3cf01cf38097a756b02c851a032c09e3a25feb7c50\n",
            "Successfully built dtreeviz\n",
            "Installing collected packages: colour, dtreeviz\n",
            "Successfully installed colour-0.1.5 dtreeviz-1.1.4\n"
          ],
          "name": "stdout"
        }
      ]
    },
    {
      "cell_type": "code",
      "metadata": {
        "id": "2s7kwvbN7a9e"
      },
      "source": [
        "#Importing important libraries\n",
        "import numpy as np\n",
        "import pandas as pd\n",
        "from matplotlib import pyplot as plt\n",
        "import seaborn as sns"
      ],
      "execution_count": null,
      "outputs": []
    },
    {
      "cell_type": "code",
      "metadata": {
        "id": "Tfi-PN1MNhoi"
      },
      "source": [
        "df = pd.read_excel('/content/RNN Real 300.xlsx')"
      ],
      "execution_count": null,
      "outputs": []
    },
    {
      "cell_type": "code",
      "metadata": {
        "colab": {
          "base_uri": "https://localhost:8080/",
          "height": 248
        },
        "id": "D9HHA59fe35I",
        "outputId": "be80bc6e-8e27-4588-d5d9-7101ef631033"
      },
      "source": [
        "df.head(7)"
      ],
      "execution_count": null,
      "outputs": [
        {
          "output_type": "execute_result",
          "data": {
            "text/html": [
              "<div>\n",
              "<style scoped>\n",
              "    .dataframe tbody tr th:only-of-type {\n",
              "        vertical-align: middle;\n",
              "    }\n",
              "\n",
              "    .dataframe tbody tr th {\n",
              "        vertical-align: top;\n",
              "    }\n",
              "\n",
              "    .dataframe thead th {\n",
              "        text-align: right;\n",
              "    }\n",
              "</style>\n",
              "<table border=\"1\" class=\"dataframe\">\n",
              "  <thead>\n",
              "    <tr style=\"text-align: right;\">\n",
              "      <th></th>\n",
              "      <th>Date</th>\n",
              "      <th>File</th>\n",
              "      <th>Video</th>\n",
              "      <th>Kelas</th>\n",
              "      <th>Diskusi</th>\n",
              "    </tr>\n",
              "  </thead>\n",
              "  <tbody>\n",
              "    <tr>\n",
              "      <th>0</th>\n",
              "      <td>2020-01-02</td>\n",
              "      <td>0.625</td>\n",
              "      <td>0.015625</td>\n",
              "      <td>0.000000</td>\n",
              "      <td>0.523810</td>\n",
              "    </tr>\n",
              "    <tr>\n",
              "      <th>1</th>\n",
              "      <td>2020-01-03</td>\n",
              "      <td>0.375</td>\n",
              "      <td>0.046875</td>\n",
              "      <td>0.291667</td>\n",
              "      <td>0.095238</td>\n",
              "    </tr>\n",
              "    <tr>\n",
              "      <th>2</th>\n",
              "      <td>2020-01-06</td>\n",
              "      <td>0.500</td>\n",
              "      <td>0.015625</td>\n",
              "      <td>0.354167</td>\n",
              "      <td>1.000000</td>\n",
              "    </tr>\n",
              "    <tr>\n",
              "      <th>3</th>\n",
              "      <td>2020-01-07</td>\n",
              "      <td>0.750</td>\n",
              "      <td>0.125000</td>\n",
              "      <td>0.000000</td>\n",
              "      <td>0.095238</td>\n",
              "    </tr>\n",
              "    <tr>\n",
              "      <th>4</th>\n",
              "      <td>2020-01-08</td>\n",
              "      <td>0.375</td>\n",
              "      <td>0.250000</td>\n",
              "      <td>0.500000</td>\n",
              "      <td>0.952381</td>\n",
              "    </tr>\n",
              "    <tr>\n",
              "      <th>5</th>\n",
              "      <td>2020-01-09</td>\n",
              "      <td>0.500</td>\n",
              "      <td>0.812500</td>\n",
              "      <td>0.500000</td>\n",
              "      <td>0.095238</td>\n",
              "    </tr>\n",
              "    <tr>\n",
              "      <th>6</th>\n",
              "      <td>2020-01-10</td>\n",
              "      <td>0.750</td>\n",
              "      <td>1.281250</td>\n",
              "      <td>0.375000</td>\n",
              "      <td>0.285714</td>\n",
              "    </tr>\n",
              "  </tbody>\n",
              "</table>\n",
              "</div>"
            ],
            "text/plain": [
              "        Date   File     Video     Kelas   Diskusi\n",
              "0 2020-01-02  0.625  0.015625  0.000000  0.523810\n",
              "1 2020-01-03  0.375  0.046875  0.291667  0.095238\n",
              "2 2020-01-06  0.500  0.015625  0.354167  1.000000\n",
              "3 2020-01-07  0.750  0.125000  0.000000  0.095238\n",
              "4 2020-01-08  0.375  0.250000  0.500000  0.952381\n",
              "5 2020-01-09  0.500  0.812500  0.500000  0.095238\n",
              "6 2020-01-10  0.750  1.281250  0.375000  0.285714"
            ]
          },
          "metadata": {
            "tags": []
          },
          "execution_count": 8
        }
      ]
    },
    {
      "cell_type": "code",
      "metadata": {
        "colab": {
          "base_uri": "https://localhost:8080/",
          "height": 220
        },
        "id": "rQrMOyiyfCJA",
        "outputId": "6de77fe4-6a9d-45f7-c2c6-7b4ea4ae7f95"
      },
      "source": [
        "df.tail(6)"
      ],
      "execution_count": null,
      "outputs": [
        {
          "output_type": "execute_result",
          "data": {
            "text/html": [
              "<div>\n",
              "<style scoped>\n",
              "    .dataframe tbody tr th:only-of-type {\n",
              "        vertical-align: middle;\n",
              "    }\n",
              "\n",
              "    .dataframe tbody tr th {\n",
              "        vertical-align: top;\n",
              "    }\n",
              "\n",
              "    .dataframe thead th {\n",
              "        text-align: right;\n",
              "    }\n",
              "</style>\n",
              "<table border=\"1\" class=\"dataframe\">\n",
              "  <thead>\n",
              "    <tr style=\"text-align: right;\">\n",
              "      <th></th>\n",
              "      <th>Date</th>\n",
              "      <th>File</th>\n",
              "      <th>Video</th>\n",
              "      <th>Kelas</th>\n",
              "      <th>Diskusi</th>\n",
              "    </tr>\n",
              "  </thead>\n",
              "  <tbody>\n",
              "    <tr>\n",
              "      <th>294</th>\n",
              "      <td>2020-10-28</td>\n",
              "      <td>1.000</td>\n",
              "      <td>0.015625</td>\n",
              "      <td>0.125000</td>\n",
              "      <td>0.095238</td>\n",
              "    </tr>\n",
              "    <tr>\n",
              "      <th>295</th>\n",
              "      <td>2020-10-29</td>\n",
              "      <td>0.500</td>\n",
              "      <td>0.125000</td>\n",
              "      <td>0.125000</td>\n",
              "      <td>0.190476</td>\n",
              "    </tr>\n",
              "    <tr>\n",
              "      <th>296</th>\n",
              "      <td>2020-10-30</td>\n",
              "      <td>1.000</td>\n",
              "      <td>0.062500</td>\n",
              "      <td>0.541667</td>\n",
              "      <td>0.095238</td>\n",
              "    </tr>\n",
              "    <tr>\n",
              "      <th>297</th>\n",
              "      <td>2020-10-31</td>\n",
              "      <td>1.000</td>\n",
              "      <td>0.062500</td>\n",
              "      <td>0.375000</td>\n",
              "      <td>0.095238</td>\n",
              "    </tr>\n",
              "    <tr>\n",
              "      <th>298</th>\n",
              "      <td>2020-11-01</td>\n",
              "      <td>0.750</td>\n",
              "      <td>0.031250</td>\n",
              "      <td>0.375000</td>\n",
              "      <td>0.190476</td>\n",
              "    </tr>\n",
              "    <tr>\n",
              "      <th>299</th>\n",
              "      <td>2020-11-02</td>\n",
              "      <td>0.625</td>\n",
              "      <td>0.015625</td>\n",
              "      <td>0.000000</td>\n",
              "      <td>0.523810</td>\n",
              "    </tr>\n",
              "  </tbody>\n",
              "</table>\n",
              "</div>"
            ],
            "text/plain": [
              "          Date   File     Video     Kelas   Diskusi\n",
              "294 2020-10-28  1.000  0.015625  0.125000  0.095238\n",
              "295 2020-10-29  0.500  0.125000  0.125000  0.190476\n",
              "296 2020-10-30  1.000  0.062500  0.541667  0.095238\n",
              "297 2020-10-31  1.000  0.062500  0.375000  0.095238\n",
              "298 2020-11-01  0.750  0.031250  0.375000  0.190476\n",
              "299 2020-11-02  0.625  0.015625  0.000000  0.523810"
            ]
          },
          "metadata": {
            "tags": []
          },
          "execution_count": 9
        }
      ]
    },
    {
      "cell_type": "code",
      "metadata": {
        "colab": {
          "base_uri": "https://localhost:8080/"
        },
        "id": "E1WVvpZML2kj",
        "outputId": "9b169ba7-1ba5-4dba-e7bd-291c4b7ff929"
      },
      "source": [
        "df.info()\n",
        "#Terlihat dari semua variabel sudah tidak ada yang missing dan noise, sehingga kami bisa melanjutkan ke visualisasi data"
      ],
      "execution_count": null,
      "outputs": [
        {
          "output_type": "stream",
          "text": [
            "<class 'pandas.core.frame.DataFrame'>\n",
            "RangeIndex: 300 entries, 0 to 299\n",
            "Data columns (total 5 columns):\n",
            " #   Column   Non-Null Count  Dtype         \n",
            "---  ------   --------------  -----         \n",
            " 0   Date     300 non-null    datetime64[ns]\n",
            " 1   File     300 non-null    float64       \n",
            " 2   Video    300 non-null    float64       \n",
            " 3   Kelas    300 non-null    float64       \n",
            " 4   Diskusi  300 non-null    float64       \n",
            "dtypes: datetime64[ns](1), float64(4)\n",
            "memory usage: 11.8 KB\n"
          ],
          "name": "stdout"
        }
      ]
    },
    {
      "cell_type": "markdown",
      "metadata": {
        "id": "KsA7SJ5WQZqm"
      },
      "source": [
        "#VISUALISASI DATA"
      ]
    },
    {
      "cell_type": "code",
      "metadata": {
        "colab": {
          "base_uri": "https://localhost:8080/"
        },
        "id": "_8AuGSBZMcqc",
        "outputId": "55f758ae-6370-4610-f332-74da3dd208e5"
      },
      "source": [
        "#untuk tau kuantitas dari setiap kategori pada variabel kualitas\n",
        "df['quality'].value_counts(normalize=True) "
      ],
      "execution_count": null,
      "outputs": [
        {
          "output_type": "execute_result",
          "data": {
            "text/plain": [
              "1    0.523613\n",
              "0    0.476387\n",
              "Name: quality, dtype: float64"
            ]
          },
          "metadata": {
            "tags": []
          },
          "execution_count": 29
        }
      ]
    },
    {
      "cell_type": "code",
      "metadata": {
        "colab": {
          "base_uri": "https://localhost:8080/",
          "height": 303
        },
        "id": "wTwC3dUAMXXc",
        "outputId": "74446e66-610c-4650-922f-1485f6012a90"
      },
      "source": [
        "import seaborn as sns\n",
        "sns.countplot(x=df['quality'])"
      ],
      "execution_count": null,
      "outputs": [
        {
          "output_type": "execute_result",
          "data": {
            "text/plain": [
              "<matplotlib.axes._subplots.AxesSubplot at 0x7f88161d4198>"
            ]
          },
          "metadata": {
            "tags": []
          },
          "execution_count": 30
        },
        {
          "output_type": "display_data",
          "data": {
            "image/png": "[encoded data removed]",
            "text/plain": [
              "<Figure size 432x288 with 1 Axes>"
            ]
          },
          "metadata": {
            "tags": []
          }
        }
      ]
    },
    {
      "cell_type": "code",
      "metadata": {
        "colab": {
          "base_uri": "https://localhost:8080/",
          "height": 285
        },
        "id": "DthTM2rpQyO-",
        "outputId": "877ca3e7-243d-4f1e-b71d-4b52468e2bac"
      },
      "source": [
        "#hubungan alkohol terhadap kualitas red wine\n",
        "p = sns.boxplot(x=\"quality\", y=\"alcohol\", data=df)"
      ],
      "execution_count": null,
      "outputs": [
        {
          "output_type": "display_data",
          "data": {
            "image/png": "[encoded data removed]",
            "text/plain": [
              "<Figure size 432x288 with 1 Axes>"
            ]
          },
          "metadata": {
            "tags": []
          }
        }
      ]
    },
    {
      "cell_type": "code",
      "metadata": {
        "colab": {
          "base_uri": "https://localhost:8080/",
          "height": 285
        },
        "id": "asDTJscFVnmh",
        "outputId": "73d258d5-310a-41bf-f895-909e964a171b"
      },
      "source": [
        "#hubungan sulphates terhadap kualitas red wine\n",
        "p = sns.boxplot(x=\"quality\", y=\"sulphates\", data=df)"
      ],
      "execution_count": null,
      "outputs": [
        {
          "output_type": "display_data",
          "data": {
            "image/png": "[encoded data removed]",
            "text/plain": [
              "<Figure size 432x288 with 1 Axes>"
            ]
          },
          "metadata": {
            "tags": []
          }
        }
      ]
    },
    {
      "cell_type": "code",
      "metadata": {
        "colab": {
          "base_uri": "https://localhost:8080/",
          "height": 285
        },
        "id": "jwavZ8CBW0H0",
        "outputId": "4a257444-8459-445d-a80d-9f6bb8de2d1f"
      },
      "source": [
        "#hubungan density terhadap kualitas red wine\n",
        "p = sns.boxplot(x=\"quality\", y=\"density\", data=df)"
      ],
      "execution_count": null,
      "outputs": [
        {
          "output_type": "display_data",
          "data": {
            "image/png": "[encoded data removed]",
            "text/plain": [
              "<Figure size 432x288 with 1 Axes>"
            ]
          },
          "metadata": {
            "tags": []
          }
        }
      ]
    },
    {
      "cell_type": "code",
      "metadata": {
        "colab": {
          "base_uri": "https://localhost:8080/",
          "height": 268
        },
        "id": "ojY47yWivygN",
        "outputId": "eea474a5-c241-418f-fcf7-e284217cbb2d"
      },
      "source": [
        "n, bins, patches = plt.hist(x=df['pH'], bins='auto', color='#0504aa',\n",
        "                            alpha=0.7, rwidth=0.85)"
      ],
      "execution_count": null,
      "outputs": [
        {
          "output_type": "display_data",
          "data": {
            "image/png": "[encoded data removed]",
            "text/plain": [
              "<Figure size 432x288 with 1 Axes>"
            ]
          },
          "metadata": {
            "tags": []
          }
        }
      ]
    },
    {
      "cell_type": "code",
      "metadata": {
        "colab": {
          "base_uri": "https://localhost:8080/",
          "height": 268
        },
        "id": "vkyccetOxjk4",
        "outputId": "9f41df73-53ab-4bd4-f051-7b8184fb03f9"
      },
      "source": [
        "n, bins, patches = plt.hist(x=df['freesulfurdioxide'], bins='auto', color='purple',\n",
        "                            alpha=0.7, rwidth=0.85)"
      ],
      "execution_count": null,
      "outputs": [
        {
          "output_type": "display_data",
          "data": {
            "image/png": "[encoded data removed]",
            "text/plain": [
              "<Figure size 432x288 with 1 Axes>"
            ]
          },
          "metadata": {
            "tags": []
          }
        }
      ]
    },
    {
      "cell_type": "code",
      "metadata": {
        "colab": {
          "base_uri": "https://localhost:8080/",
          "height": 268
        },
        "id": "gRr2qN0wx2_q",
        "outputId": "57f7d8ad-2075-4589-a4ac-4fc94618bd4b"
      },
      "source": [
        "n, bins, patches = plt.hist(x=df['totalsulfurdioxide'], bins='auto', color='teal',\n",
        "                            alpha=0.7, rwidth=0.85)\n"
      ],
      "execution_count": null,
      "outputs": [
        {
          "output_type": "display_data",
          "data": {
            "image/png": "[encoded data removed]",
            "text/plain": [
              "<Figure size 432x288 with 1 Axes>"
            ]
          },
          "metadata": {
            "tags": []
          }
        }
      ]
    },
    {
      "cell_type": "code",
      "metadata": {
        "colab": {
          "base_uri": "https://localhost:8080/",
          "height": 268
        },
        "id": "1LSLfY6NyApc",
        "outputId": "7c8d1468-00b2-44e5-fd65-e28cc675a4bc"
      },
      "source": [
        "n, bins, patches = plt.hist(x=df['alcohol'], bins='auto', color='salmon',\n",
        "                            alpha=0.7, rwidth=0.85)\n"
      ],
      "execution_count": null,
      "outputs": [
        {
          "output_type": "display_data",
          "data": {
            "image/png": "[encoded data removed]",
            "text/plain": [
              "<Figure size 432x288 with 1 Axes>"
            ]
          },
          "metadata": {
            "tags": []
          }
        }
      ]
    },
    {
      "cell_type": "code",
      "metadata": {
        "colab": {
          "base_uri": "https://localhost:8080/",
          "height": 268
        },
        "id": "t_08K_09ySel",
        "outputId": "93b404f0-5202-421b-b367-0906c6dac0e4"
      },
      "source": [
        "n, bins, patches = plt.hist(x=df['fixedacidity'], bins='auto', color='green',\n",
        "                            alpha=0.7, rwidth=0.85)"
      ],
      "execution_count": null,
      "outputs": [
        {
          "output_type": "display_data",
          "data": {
            "image/png": "[encoded data removed]",
            "text/plain": [
              "<Figure size 432x288 with 1 Axes>"
            ]
          },
          "metadata": {
            "tags": []
          }
        }
      ]
    },
    {
      "cell_type": "code",
      "metadata": {
        "colab": {
          "base_uri": "https://localhost:8080/",
          "height": 268
        },
        "id": "2ALyH4zAyZUS",
        "outputId": "6f9bc3a6-b91f-433e-d587-4f46fb5b291d"
      },
      "source": [
        "n, bins, patches = plt.hist(x=df['density'], bins='auto', color='orange',\n",
        "                            alpha=0.7, rwidth=0.85)"
      ],
      "execution_count": null,
      "outputs": [
        {
          "output_type": "display_data",
          "data": {
            "image/png": "[encoded data removed]",
            "text/plain": [
              "<Figure size 432x288 with 1 Axes>"
            ]
          },
          "metadata": {
            "tags": []
          }
        }
      ]
    },
    {
      "cell_type": "code",
      "metadata": {
        "colab": {
          "base_uri": "https://localhost:8080/",
          "height": 268
        },
        "id": "6OTSmi8By9i2",
        "outputId": "d1aca07c-9577-4dab-e5c9-8fd7726fa237"
      },
      "source": [
        "n, bins, patches = plt.hist(x=df['volatileacidity'], bins='auto', color='yellow',\n",
        "                            alpha=0.7, rwidth=0.85)"
      ],
      "execution_count": null,
      "outputs": [
        {
          "output_type": "display_data",
          "data": {
            "image/png": "[encoded data removed]",
            "text/plain": [
              "<Figure size 432x288 with 1 Axes>"
            ]
          },
          "metadata": {
            "tags": []
          }
        }
      ]
    },
    {
      "cell_type": "code",
      "metadata": {
        "colab": {
          "base_uri": "https://localhost:8080/",
          "height": 268
        },
        "id": "pLnzZwVezDnN",
        "outputId": "188ada19-32f7-41d7-d5fc-092a10c5a302"
      },
      "source": [
        "n, bins, patches = plt.hist(x=df['citricacid'], bins='auto', color='salmon',\n",
        "                            alpha=0.7, rwidth=0.85)"
      ],
      "execution_count": null,
      "outputs": [
        {
          "output_type": "display_data",
          "data": {
            "image/png": "[encoded data removed]",
            "text/plain": [
              "<Figure size 432x288 with 1 Axes>"
            ]
          },
          "metadata": {
            "tags": []
          }
        }
      ]
    },
    {
      "cell_type": "code",
      "metadata": {
        "colab": {
          "base_uri": "https://localhost:8080/",
          "height": 268
        },
        "id": "FaZ5s3XNzVMf",
        "outputId": "939341a6-c020-4680-b930-c81e795e5e0f"
      },
      "source": [
        "n, bins, patches = plt.hist(x=df['sulphates'], bins='auto', color='black',\n",
        "                            alpha=0.7, rwidth=0.85)"
      ],
      "execution_count": null,
      "outputs": [
        {
          "output_type": "display_data",
          "data": {
            "image/png": "[encoded data removed]",
            "text/plain": [
              "<Figure size 432x288 with 1 Axes>"
            ]
          },
          "metadata": {
            "tags": []
          }
        }
      ]
    },
    {
      "cell_type": "markdown",
      "metadata": {
        "id": "8tc71XReeS5H"
      },
      "source": [
        "#Klasifikasi dengan Pemodelan Regresi Logistik\n"
      ]
    },
    {
      "cell_type": "markdown",
      "metadata": {
        "id": "c001eiqyRnrY"
      },
      "source": [
        "#Model 1 : Model Regresi Total\n"
      ]
    },
    {
      "cell_type": "markdown",
      "metadata": {
        "id": "p1N0IseNeYq8"
      },
      "source": [
        "Model Regresi Total\n"
      ]
    },
    {
      "cell_type": "code",
      "metadata": {
        "colab": {
          "base_uri": "https://localhost:8080/"
        },
        "id": "kIk5lAkVNnj4",
        "outputId": "404ae974-894e-47b9-ff68-cf63df302208"
      },
      "source": [
        "df['quality'] = df['quality'].astype('category')\n",
        "X = df[['fixedacidity','volatileacidity','citricacid','residualsugar','chlorides','freesulfurdioxide','totalsulfurdioxide','density','pH','sulphates','alcohol']]\n",
        "Y = df['quality']\n",
        "seed = 9\n",
        "validation_size = 0.3\n",
        "X_train, X_test, Y_train, Y_test = model_selection.train_test_split(X, Y, test_size=validation_size, random_state=seed)\n",
        "print(X_train.shape, len(Y_test))"
      ],
      "execution_count": null,
      "outputs": [
        {
          "output_type": "stream",
          "text": [
            "(2030, 11) 871\n"
          ],
          "name": "stdout"
        }
      ]
    },
    {
      "cell_type": "code",
      "metadata": {
        "id": "KxkKIF8NNu4w"
      },
      "source": [
        "from sklearn.linear_model import LogisticRegression\n",
        "\n",
        "clf = LogisticRegression().fit(X_train, Y_train)"
      ],
      "execution_count": null,
      "outputs": []
    },
    {
      "cell_type": "code",
      "metadata": {
        "colab": {
          "base_uri": "https://localhost:8080/"
        },
        "id": "C4rQmiTvN1Gv",
        "outputId": "8f3d1989-b5cd-403c-86c5-28b28235270f"
      },
      "source": [
        "Y_reglog = clf.predict(X_test)\n",
        "Y_reglog"
      ],
      "execution_count": null,
      "outputs": [
        {
          "output_type": "execute_result",
          "data": {
            "text/plain": [
              "array([0, 0, 1, 1, 0, 1, 0, 0, 1, 0, 0, 1, 0, 1, 0, 0, 1, 1, 0, 1, 1, 1,\n",
              "       1, 0, 0, 1, 0, 1, 0, 0, 1, 1, 1, 0, 1, 0, 0, 1, 0, 0, 1, 1, 1, 1,\n",
              "       0, 1, 0, 0, 1, 0, 1, 0, 1, 1, 1, 0, 1, 1, 1, 1, 0, 1, 1, 0, 0, 1,\n",
              "       0, 0, 1, 1, 1, 0, 0, 1, 1, 1, 1, 0, 1, 1, 1, 1, 1, 1, 0, 0, 1, 0,\n",
              "       0, 0, 1, 1, 1, 1, 1, 0, 0, 1, 1, 1, 1, 1, 1, 1, 0, 1, 1, 1, 0, 0,\n",
              "       1, 1, 0, 1, 0, 0, 1, 1, 1, 1, 0, 1, 0, 1, 1, 0, 0, 1, 1, 0, 1, 0,\n",
              "       1, 0, 0, 0, 1, 0, 1, 0, 1, 0, 1, 1, 1, 1, 0, 1, 1, 0, 0, 0, 1, 1,\n",
              "       0, 0, 1, 0, 0, 1, 1, 1, 0, 1, 1, 0, 0, 0, 0, 1, 1, 1, 1, 1, 1, 0,\n",
              "       0, 1, 0, 0, 0, 1, 1, 0, 0, 0, 0, 0, 0, 0, 0, 1, 1, 1, 1, 1, 1, 1,\n",
              "       1, 1, 0, 1, 1, 1, 0, 1, 0, 0, 1, 0, 0, 0, 0, 0, 0, 1, 1, 0, 1, 0,\n",
              "       0, 1, 0, 0, 1, 1, 0, 1, 1, 1, 1, 0, 1, 0, 1, 1, 0, 0, 1, 0, 0, 0,\n",
              "       0, 0, 1, 0, 1, 0, 0, 1, 1, 1, 1, 1, 1, 1, 1, 1, 0, 1, 1, 0, 0, 0,\n",
              "       0, 1, 0, 0, 1, 0, 1, 0, 1, 1, 1, 1, 0, 1, 0, 1, 0, 1, 0, 0, 1, 1,\n",
              "       0, 0, 1, 1, 1, 0, 0, 1, 1, 0, 0, 1, 1, 1, 0, 0, 1, 0, 0, 0, 0, 1,\n",
              "       1, 0, 1, 1, 0, 0, 1, 1, 1, 0, 1, 0, 1, 0, 1, 0, 0, 0, 1, 1, 1, 1,\n",
              "       0, 1, 1, 1, 0, 0, 1, 1, 1, 0, 0, 0, 1, 1, 1, 0, 0, 0, 1, 1, 1, 0,\n",
              "       0, 0, 0, 1, 0, 0, 1, 0, 1, 1, 1, 1, 1, 0, 0, 1, 1, 0, 1, 1, 1, 0,\n",
              "       0, 1, 1, 0, 1, 1, 0, 0, 0, 0, 0, 1, 0, 1, 1, 1, 1, 0, 0, 1, 1, 1,\n",
              "       1, 0, 1, 1, 0, 1, 0, 0, 1, 0, 1, 1, 0, 0, 1, 1, 0, 0, 0, 1, 0, 1,\n",
              "       0, 0, 0, 1, 1, 1, 0, 1, 1, 1, 1, 1, 0, 1, 1, 1, 0, 1, 0, 1, 0, 1,\n",
              "       0, 1, 0, 0, 1, 1, 1, 1, 1, 0, 1, 1, 1, 1, 0, 1, 1, 1, 0, 1, 0, 0,\n",
              "       1, 1, 0, 0, 1, 1, 1, 0, 0, 1, 0, 0, 0, 0, 1, 1, 1, 1, 1, 1, 1, 0,\n",
              "       0, 0, 1, 0, 1, 0, 1, 0, 0, 0, 0, 1, 0, 0, 1, 0, 0, 0, 1, 1, 1, 0,\n",
              "       0, 0, 1, 0, 0, 1, 1, 0, 0, 0, 0, 1, 0, 1, 1, 1, 1, 0, 0, 0, 1, 1,\n",
              "       0, 1, 0, 1, 1, 0, 1, 0, 1, 1, 0, 1, 1, 0, 0, 1, 0, 1, 1, 0, 0, 1,\n",
              "       0, 1, 1, 1, 1, 0, 0, 1, 1, 0, 1, 0, 1, 0, 1, 1, 1, 1, 0, 0, 1, 0,\n",
              "       1, 0, 1, 1, 1, 0, 0, 0, 0, 1, 0, 0, 0, 1, 0, 0, 1, 0, 1, 0, 1, 0,\n",
              "       1, 1, 0, 0, 1, 1, 0, 0, 1, 0, 1, 1, 1, 0, 1, 1, 1, 0, 1, 1, 0, 1,\n",
              "       0, 1, 1, 0, 1, 1, 1, 1, 1, 1, 1, 0, 1, 1, 0, 0, 1, 1, 1, 1, 1, 1,\n",
              "       1, 0, 0, 1, 1, 1, 1, 1, 1, 1, 0, 0, 1, 1, 0, 0, 1, 0, 0, 0, 1, 0,\n",
              "       0, 0, 0, 0, 1, 0, 1, 1, 0, 1, 0, 0, 0, 1, 0, 1, 0, 0, 1, 1, 1, 1,\n",
              "       1, 1, 1, 1, 1, 1, 1, 1, 1, 1, 0, 1, 0, 0, 0, 0, 0, 0, 1, 0, 0, 1,\n",
              "       0, 0, 1, 0, 1, 1, 1, 0, 0, 1, 0, 1, 1, 1, 0, 0, 1, 0, 1, 1, 0, 0,\n",
              "       0, 1, 1, 0, 0, 0, 1, 1, 0, 1, 0, 0, 1, 1, 0, 1, 0, 0, 0, 0, 1, 0,\n",
              "       1, 1, 1, 0, 0, 1, 1, 0, 0, 0, 0, 1, 0, 1, 1, 1, 1, 0, 1, 1, 1, 0,\n",
              "       1, 1, 0, 0, 0, 1, 0, 1, 1, 1, 1, 0, 0, 0, 0, 1, 1, 0, 1, 0, 0, 1,\n",
              "       1, 0, 0, 1, 0, 1, 1, 1, 0, 1, 1, 1, 0, 1, 1, 0, 0, 0, 1, 1, 0, 1,\n",
              "       0, 0, 0, 0, 1, 1, 1, 0, 1, 1, 1, 1, 1, 0, 1, 1, 1, 0, 1, 1, 0, 0,\n",
              "       0, 0, 1, 1, 1, 1, 0, 1, 0, 1, 0, 0, 1, 0, 1, 1, 0, 1, 0, 0, 1, 1,\n",
              "       0, 1, 1, 0, 0, 1, 0, 0, 1, 1, 1, 0, 0])"
            ]
          },
          "metadata": {
            "tags": []
          },
          "execution_count": 42
        }
      ]
    },
    {
      "cell_type": "code",
      "metadata": {
        "colab": {
          "base_uri": "https://localhost:8080/"
        },
        "id": "6GLNYuy3N4Hz",
        "outputId": "aa4d982a-be71-4b89-aa97-5c74ca781ab1"
      },
      "source": [
        "#Akurasi Model 1\n",
        "from sklearn.metrics import accuracy_score\n",
        "\n",
        "accuracy_score(Y_test, Y_reglog)\n"
      ],
      "execution_count": null,
      "outputs": [
        {
          "output_type": "execute_result",
          "data": {
            "text/plain": [
              "0.8048220436280138"
            ]
          },
          "metadata": {
            "tags": []
          },
          "execution_count": 43
        }
      ]
    },
    {
      "cell_type": "code",
      "metadata": {
        "colab": {
          "base_uri": "https://localhost:8080/"
        },
        "id": "TS4qXqTPA88j",
        "outputId": "f0248687-31d5-43e0-c811-677221937078"
      },
      "source": [
        "#Model Regresi Logistik Total\n",
        "import statsmodels.api as sm\n",
        "logit_model=sm.Logit(Y,X)\n",
        "result=logit_model.fit()\n",
        "\n",
        "print(result.summary2())"
      ],
      "execution_count": null,
      "outputs": [
        {
          "output_type": "stream",
          "text": [
            "Optimization terminated successfully.\n",
            "         Current function value: 0.430225\n",
            "         Iterations 7\n",
            "                           Results: Logit\n",
            "====================================================================\n",
            "Model:                Logit             Pseudo R-squared:  0.378    \n",
            "Dependent Variable:   quality           AIC:               2518.1645\n",
            "Date:                 2021-01-06 05:53  BIC:               2583.8654\n",
            "No. Observations:     2901              Log-Likelihood:    -1248.1  \n",
            "Df Model:             10                LL-Null:           -2007.6  \n",
            "Df Residuals:         2890              LLR p-value:       0.0000   \n",
            "Converged:            1.0000            Scale:             1.0000   \n",
            "No. Iterations:       7.0000                                        \n",
            "--------------------------------------------------------------------\n",
            "                    Coef.   Std.Err.    z    P>|z|   [0.025   0.975]\n",
            "--------------------------------------------------------------------\n",
            "fixedacidity         0.1231   0.0487  2.5267 0.0115   0.0276  0.2185\n",
            "volatileacidity     -3.3352   0.4227 -7.8909 0.0000  -4.1636 -2.5068\n",
            "citricacid          -0.4294   0.4769 -0.9004 0.3679  -1.3641  0.5053\n",
            "residualsugar        0.1791   0.0380  4.7121 0.0000   0.1046  0.2537\n",
            "chlorides           -8.7819   1.6944 -5.1828 0.0000 -12.1029 -5.4609\n",
            "freesulfurdioxide    0.0115   0.0065  1.7708 0.0766  -0.0012  0.0243\n",
            "totalsulfurdioxide  -0.0146   0.0022 -6.6166 0.0000  -0.0190 -0.0103\n",
            "density            -10.0602   1.9887 -5.0587 0.0000 -13.9579 -6.1624\n",
            "pH                  -1.1360   0.5163 -2.2001 0.0278  -2.1480 -0.1240\n",
            "sulphates            3.7506   0.3717 10.0909 0.0000   3.0221  4.4791\n",
            "alcohol              1.1534   0.0576 20.0062 0.0000   1.0404  1.2663\n",
            "====================================================================\n",
            "\n"
          ],
          "name": "stdout"
        }
      ]
    },
    {
      "cell_type": "code",
      "metadata": {
        "colab": {
          "base_uri": "https://localhost:8080/"
        },
        "id": "ePngDjViOAA4",
        "outputId": "8497d600-7326-4559-e536-659896a499ce"
      },
      "source": [
        "#Akurasi, Presisi dan Recall dari Model 1 : Model Regresi Logistik Total\n",
        "from sklearn.metrics import precision_score, recall_score, f1_score\n",
        "\n",
        "print('presisi = ', precision_score(Y_test, Y_reglog))\n",
        "print('Recall = ', recall_score(Y_test, Y_reglog))\n",
        "print('f1_score = ', f1_score(Y_test, Y_reglog))"
      ],
      "execution_count": null,
      "outputs": [
        {
          "output_type": "stream",
          "text": [
            "presisi =  0.7705263157894737\n",
            "Recall =  0.8571428571428571\n",
            "f1_score =  0.811529933481153\n"
          ],
          "name": "stdout"
        }
      ]
    },
    {
      "cell_type": "markdown",
      "metadata": {
        "id": "BX-hPE9FofeN"
      },
      "source": [
        "#Model 2 : Model Regresi Logistik tanpa Variabel yang Signifikan yaitu "
      ]
    },
    {
      "cell_type": "code",
      "metadata": {
        "id": "3EfAyHpCns4a"
      },
      "source": [
        "X1 = df[['fixedacidity','volatileacidity','residualsugar','chlorides','totalsulfurdioxide','density','sulphates','alcohol']]\n",
        "Y = df['quality']\n",
        "seed = 9\n",
        "validation_size = 0.3\n",
        "X_train1, X_test1, Y_train, Y_test = model_selection.train_test_split(X1, Y, test_size=validation_size, random_state=seed)"
      ],
      "execution_count": null,
      "outputs": []
    },
    {
      "cell_type": "code",
      "metadata": {
        "colab": {
          "base_uri": "https://localhost:8080/"
        },
        "id": "VRVdRqVvtktH",
        "outputId": "9c2a1317-1faa-41e6-9724-e9f6cff10492"
      },
      "source": [
        "#Model Regresi Logistik Tanpa Variabel yang Tidak Signifikan\n",
        "import statsmodels.api as sm\n",
        "logit_model1=sm.Logit(Y,X1)\n",
        "result1=logit_model1.fit()\n",
        "\n",
        "clf = LogisticRegression().fit(X_train1, Y_train)\n",
        "Y_reglog1 = clf.predict(X_test1)\n",
        "Y_reglog1\n",
        "print(result1.summary2())"
      ],
      "execution_count": null,
      "outputs": [
        {
          "output_type": "stream",
          "text": [
            "Optimization terminated successfully.\n",
            "         Current function value: 0.431544\n",
            "         Iterations 7\n",
            "                            Results: Logit\n",
            "======================================================================\n",
            "Model:                Logit              Pseudo R-squared:   0.376    \n",
            "Dependent Variable:   quality            AIC:                2519.8200\n",
            "Date:                 2021-01-06 05:53   BIC:                2567.6025\n",
            "No. Observations:     2901               Log-Likelihood:     -1251.9  \n",
            "Df Model:             7                  LL-Null:            -2007.6  \n",
            "Df Residuals:         2893               LLR p-value:        0.0000   \n",
            "Converged:            1.0000             Scale:              1.0000   \n",
            "No. Iterations:       7.0000                                          \n",
            "----------------------------------------------------------------------\n",
            "                    Coef.   Std.Err.    z     P>|z|   [0.025   0.975] \n",
            "----------------------------------------------------------------------\n",
            "fixedacidity         0.1577   0.0282   5.5940 0.0000   0.1024   0.2130\n",
            "volatileacidity     -3.3185   0.3358  -9.8813 0.0000  -3.9767  -2.6602\n",
            "residualsugar        0.1686   0.0379   4.4505 0.0000   0.0944   0.2429\n",
            "chlorides           -8.6864   1.6405  -5.2949 0.0000 -11.9018  -5.4710\n",
            "totalsulfurdioxide  -0.0118   0.0016  -7.4765 0.0000  -0.0149  -0.0087\n",
            "density            -13.7587   0.7881 -17.4577 0.0000 -15.3033 -12.2140\n",
            "sulphates            3.6928   0.3660  10.0899 0.0000   2.9755   4.4102\n",
            "alcohol              1.1181   0.0541  20.6708 0.0000   1.0121   1.2241\n",
            "======================================================================\n",
            "\n"
          ],
          "name": "stdout"
        }
      ]
    },
    {
      "cell_type": "code",
      "metadata": {
        "colab": {
          "base_uri": "https://localhost:8080/"
        },
        "id": "yFYn0ku1wEf2",
        "outputId": "45fe7c4c-5489-4453-9402-de63d222b3b3"
      },
      "source": [
        "#Akurasi, Presisi dan Recall dari Model 2 : Model Regresi Logistik Tanpa Variabel yang Tidak Signifikan\n",
        "from sklearn.metrics import precision_score, recall_score, f1_score\n",
        "\n",
        "print('presisi = ', precision_score(Y_test, Y_reglog1))\n",
        "print('Recall = ', recall_score(Y_test, Y_reglog1))\n",
        "print('f1_score = ', f1_score(Y_test, Y_reglog1))"
      ],
      "execution_count": null,
      "outputs": [
        {
          "output_type": "stream",
          "text": [
            "presisi =  0.7752100840336135\n",
            "Recall =  0.8641686182669789\n",
            "f1_score =  0.8172757475083057\n"
          ],
          "name": "stdout"
        }
      ]
    },
    {
      "cell_type": "code",
      "metadata": {
        "colab": {
          "base_uri": "https://localhost:8080/"
        },
        "id": "zpZdrIw-FsFd",
        "outputId": "7aa9a141-9bd0-4b0f-d87c-870a37516398"
      },
      "source": [
        "#Akurasi Model 2\n",
        "from sklearn.metrics import accuracy_score\n",
        "\n",
        "accuracy_score(Y_test, Y_reglog1)"
      ],
      "execution_count": null,
      "outputs": [
        {
          "output_type": "execute_result",
          "data": {
            "text/plain": [
              "0.8105625717566016"
            ]
          },
          "metadata": {
            "tags": []
          },
          "execution_count": 49
        }
      ]
    },
    {
      "cell_type": "code",
      "metadata": {
        "colab": {
          "base_uri": "https://localhost:8080/"
        },
        "id": "929vyjANOJGj",
        "outputId": "e379ea67-2538-4186-9869-69910744e2a6"
      },
      "source": [
        "# Cross validation\n",
        "# Perhatikan variabelnya, kita sekarang menggunakan seluruh data\n",
        "# http://scikit-learn.org/stable/modules/generated/sklearn.model_selection.cross_val_score.html\n",
        "from sklearn.model_selection import cross_val_score\n",
        "import time\n",
        "\n",
        "mulai = time.time()\n",
        "scores_regLog = cross_val_score(clf, X, Y, cv=10) # perhatikan sekarang kita menggunakan seluruh data\n",
        "waktu = time.time() - mulai\n",
        "# Interval Akurasi 95 CI \n",
        "print(\"Accuracy Regresi Logistik: %0.2f (+/- %0.2f), Waktu = %0.3f detik\" % (scores_regLog.mean(), scores_regLog.std() * 2, waktu))"
      ],
      "execution_count": null,
      "outputs": [
        {
          "output_type": "stream",
          "text": [
            "Accuracy Regresi Logistik: 0.80 (+/- 0.10), Waktu = 0.769 detik\n"
          ],
          "name": "stdout"
        }
      ]
    },
    {
      "cell_type": "code",
      "metadata": {
        "colab": {
          "base_uri": "https://localhost:8080/",
          "height": 447
        },
        "id": "u5_RfxcGOYvi",
        "outputId": "4575f502-8a0d-414a-cbd7-91de1bf10cf0"
      },
      "source": [
        "%matplotlib inline\n",
        "import matplotlib.pyplot as plt; plt.style.use('classic')\n",
        "import seaborn as sns; sns.set()\n",
        "\n",
        "df = pd.DataFrame({'Regresi Logistik':scores_regLog})\n",
        "sns.boxplot(data=df)\n",
        "plt.show()"
      ],
      "execution_count": null,
      "outputs": [
        {
          "output_type": "display_data",
          "data": {
            "image/png": "[encoded data removed]",
            "text/plain": [
              "<Figure size 640x480 with 1 Axes>"
            ]
          },
          "metadata": {
            "tags": []
          }
        }
      ]
    },
    {
      "cell_type": "markdown",
      "metadata": {
        "id": "U5cZGM_9745n"
      },
      "source": [
        "#Naive Bayes Classif"
      ]
    },
    {
      "cell_type": "code",
      "metadata": {
        "id": "5_cJAXVZOh4v"
      },
      "source": [
        "#from sklearn.datasets import load_wine\n",
        "#X, Y = load_wine(return_X_y=True)\n",
        "#set(Y) # 3 Kategori"
      ],
      "execution_count": null,
      "outputs": []
    },
    {
      "cell_type": "code",
      "metadata": {
        "id": "dUSg9gpFQNwl",
        "colab": {
          "base_uri": "https://localhost:8080/"
        },
        "outputId": "2b5ae004-857e-4ad8-847e-ab33834f0c41"
      },
      "source": [
        "from sklearn.naive_bayes import GaussianNB\n",
        "\n",
        "gnb = GaussianNB()\n",
        "nbc = gnb.fit(X_train, Y_train)\n",
        "nbc_prediction = nbc.predict(X_test)\n",
        "\n",
        "print('Akurasi = ', accuracy_score(Y_test, nbc_prediction))\n",
        "print(confusion_matrix(Y_test, nbc_prediction))\n",
        "print(classification_report(Y_test, nbc_prediction))\n",
        "# Hati-hati Sparse ==> Dense bisa memenuhi memory untuk data relatif cukup besar\n",
        "# Akurasi cukup baik"
      ],
      "execution_count": null,
      "outputs": [
        {
          "output_type": "stream",
          "text": [
            "Akurasi =  0.7680826636050516\n",
            "[[316 128]\n",
            " [ 74 353]]\n",
            "              precision    recall  f1-score   support\n",
            "\n",
            "           0       0.81      0.71      0.76       444\n",
            "           1       0.73      0.83      0.78       427\n",
            "\n",
            "    accuracy                           0.77       871\n",
            "   macro avg       0.77      0.77      0.77       871\n",
            "weighted avg       0.77      0.77      0.77       871\n",
            "\n"
          ],
          "name": "stdout"
        }
      ]
    },
    {
      "cell_type": "code",
      "metadata": {
        "colab": {
          "base_uri": "https://localhost:8080/"
        },
        "id": "bm12Z-CZRsSe",
        "outputId": "221809ae-f455-4448-a47d-b5e4a8350b56"
      },
      "source": [
        "from sklearn import neighbors\n",
        "\n",
        "n_neighbors = 3\n",
        "weights = 'distance'\n",
        "kNN = neighbors.KNeighborsClassifier(n_neighbors, weights=weights)\n",
        "kNN.fit(X_train, Y_train)\n",
        "print('Done!')"
      ],
      "execution_count": null,
      "outputs": [
        {
          "output_type": "stream",
          "text": [
            "Done!\n"
          ],
          "name": "stdout"
        }
      ]
    },
    {
      "cell_type": "code",
      "metadata": {
        "colab": {
          "base_uri": "https://localhost:8080/"
        },
        "id": "frIcH5RBRz3R",
        "outputId": "e86bdb69-2050-41e6-e8ba-5f0041d5af10"
      },
      "source": [
        "y_kNN = kNN.predict(X_test)\n",
        "y_kNN[-10:]"
      ],
      "execution_count": null,
      "outputs": [
        {
          "output_type": "execute_result",
          "data": {
            "text/plain": [
              "array([0, 0, 1, 0, 0, 1, 1, 1, 1, 0])"
            ]
          },
          "metadata": {
            "tags": []
          },
          "execution_count": 55
        }
      ]
    },
    {
      "cell_type": "code",
      "metadata": {
        "colab": {
          "base_uri": "https://localhost:8080/"
        },
        "id": "11iv87fqR5bJ",
        "outputId": "13791346-2cca-4c28-83dd-e003c021a490"
      },
      "source": [
        "accuracy_score(Y_test, y_kNN)"
      ],
      "execution_count": null,
      "outputs": [
        {
          "output_type": "execute_result",
          "data": {
            "text/plain": [
              "0.9334098737083811"
            ]
          },
          "metadata": {
            "tags": []
          },
          "execution_count": 56
        }
      ]
    },
    {
      "cell_type": "code",
      "metadata": {
        "colab": {
          "base_uri": "https://localhost:8080/",
          "height": 447
        },
        "id": "lAaQvxurSFKX",
        "outputId": "e7e23b23-0738-41d9-eb06-d9243db5de50"
      },
      "source": [
        "df = pd.read_csv(\"redwine.csv\")\n",
        "X = df[['fixedacidity','volatileacidity','citricacid','residualsugar','chlorides','freesulfurdioxide','totalsulfurdioxide','density','pH','sulphates','alcohol']]\n",
        "Y = df['quality']\n",
        "\n",
        "Models = [('Regresi Logistik',clf), ('k-NN',kNN), ('Naive Bayes',gnb)]\n",
        "Scores = {}\n",
        "for model_name, model in Models:\n",
        "    if model_name=='Naive Bayes':\n",
        "        Scores[model_name] = cross_val_score(model, X.values, Y, cv=10,scoring='accuracy')\n",
        "    else:\n",
        "        Scores[model_name] = cross_val_score(model, X, Y, cv=10,scoring='accuracy')\n",
        "        \n",
        "dt = pd.DataFrame.from_dict(Scores)\n",
        "ax = sns.boxplot(data=dt)"
      ],
      "execution_count": null,
      "outputs": [
        {
          "output_type": "display_data",
          "data": {
            "image/png": "[encoded data removed]",
            "text/plain": [
              "<Figure size 640x480 with 1 Axes>"
            ]
          },
          "metadata": {
            "tags": []
          }
        }
      ]
    },
    {
      "cell_type": "code",
      "metadata": {
        "colab": {
          "base_uri": "https://localhost:8080/"
        },
        "id": "nHRpI-Fo3Cbs",
        "outputId": "7eca9a9a-ec9d-407d-a318-56ececf94410"
      },
      "source": [
        "print('presisi reglog= ', precision_score(Y_test, Y_reglog1))\n",
        "print('Recall reglog= ', recall_score(Y_test, Y_reglog1))\n",
        "print('f1_score reglog= ', f1_score(Y_test, Y_reglog1))\n",
        "\n",
        "print('presisi naive-bayes= ', precision_score(Y_test, nbc_prediction))\n",
        "print('Recall naive-bayes= ', recall_score(Y_test, nbc_prediction))\n",
        "print('f1_score naive-bayes= ', f1_score(Y_test, nbc_prediction))\n"
      ],
      "execution_count": null,
      "outputs": [
        {
          "output_type": "stream",
          "text": [
            "presisi reglog=  0.7752100840336135\n",
            "Recall reglog=  0.8641686182669789\n",
            "f1_score reglog=  0.8172757475083057\n",
            "presisi naive-bayes=  0.7338877338877339\n",
            "Recall naive-bayes=  0.8266978922716628\n",
            "f1_score naive-bayes=  0.7775330396475771\n"
          ],
          "name": "stdout"
        }
      ]
    },
    {
      "cell_type": "markdown",
      "metadata": {
        "id": "PM6uNSPU3wXt"
      },
      "source": [
        "# Decision Tree"
      ]
    },
    {
      "cell_type": "code",
      "metadata": {
        "id": "bxRMRYNAcd-Y",
        "colab": {
          "base_uri": "https://localhost:8080/"
        },
        "outputId": "29478c14-6d69-4a58-b120-6afaab4c130c"
      },
      "source": [
        "from sklearn import tree\n",
        "\n",
        "DT = tree.DecisionTreeClassifier(max_depth = 3, \n",
        "                             random_state = 0) \n",
        "# Sengaja menggunakan default parameter, (Hyper)parameter Optimization akan dibahas kemudian\n",
        "DT = DT.fit(X_train1, Y_train)\n",
        "Y_DT = DT.predict(X_test1)\n",
        "print(accuracy_score(Y_test, Y_DT))\n",
        "print(confusion_matrix(Y_test, Y_DT))\n",
        "print(classification_report(Y_test, Y_DT))"
      ],
      "execution_count": null,
      "outputs": [
        {
          "output_type": "stream",
          "text": [
            "0.8071182548794489\n",
            "[[348  96]\n",
            " [ 72 355]]\n",
            "              precision    recall  f1-score   support\n",
            "\n",
            "           0       0.83      0.78      0.81       444\n",
            "           1       0.79      0.83      0.81       427\n",
            "\n",
            "    accuracy                           0.81       871\n",
            "   macro avg       0.81      0.81      0.81       871\n",
            "weighted avg       0.81      0.81      0.81       871\n",
            "\n"
          ],
          "name": "stdout"
        }
      ]
    },
    {
      "cell_type": "code",
      "metadata": {
        "id": "2VHBraqge4BH"
      },
      "source": [
        "max_depth_range = list(range(1, 6))\n",
        "# List to store the average RMSE for each value of max_depth:\n",
        "accuracy = []\n",
        "for depth in max_depth_range:\n",
        "    \n",
        "    clf = DecisionTreeClassifier(max_depth = depth, \n",
        "                             random_state = 0)\n",
        "    clf.fit(X_train, Y_train)\n",
        "    score = clf.score(X_test, Y_test)\n",
        "    accuracy.append(score)\n",
        "print(accuracy)"
      ],
      "execution_count": null,
      "outputs": []
    },
    {
      "cell_type": "code",
      "metadata": {
        "id": "Bm-DFw_mlPlB",
        "colab": {
          "base_uri": "https://localhost:8080/"
        },
        "outputId": "2020adfb-35cb-42cd-b635-70219e2c5684"
      },
      "source": [
        "DT.feature_importances_"
      ],
      "execution_count": null,
      "outputs": [
        {
          "output_type": "execute_result",
          "data": {
            "text/plain": [
              "array([0.07815912, 0.10657789, 0.        , 0.        , 0.        ,\n",
              "       0.        , 0.05503541, 0.76022758])"
            ]
          },
          "metadata": {
            "tags": []
          },
          "execution_count": 55
        }
      ]
    },
    {
      "cell_type": "code",
      "metadata": {
        "id": "j4zNQwoAlUOT"
      },
      "source": [
        "import graphviz\n",
        "\n",
        "dot_data = tree.export_graphviz(DT, out_file=None) \n",
        "graph = graphviz.Source(dot_data) \n",
        "graph.render(\"quality\") \n",
        "var_names = ['sulphates','alcohol','chlorides','volatileacidity','totalsulfurdioxide','density','residualsugar','fixedacidity']\n",
        "categories = ['1', '0']\n",
        "dot_data = tree.export_graphviz(DT, out_file=None, \n",
        "                         feature_names = var_names,  \n",
        "                         class_names=categories,  \n",
        "                         filled=True, rounded=True,  \n",
        "                         special_characters=True)  \n",
        "graph = graphviz.Source(dot_data)  "
      ],
      "execution_count": null,
      "outputs": []
    },
    {
      "cell_type": "code",
      "metadata": {
        "colab": {
          "base_uri": "https://localhost:8080/",
          "height": 617
        },
        "id": "xe5xmizk8-7w",
        "outputId": "26db78c3-cdfa-4093-c784-e3dbd0a2d0da"
      },
      "source": [
        "graph"
      ],
      "execution_count": null,
      "outputs": [
        {
          "output_type": "execute_result",
          "data": {
            "text/plain": [
              "<graphviz.files.Source at 0x7f840b857d30>"
            ],
            "image/svg+xml": "<?xml version=\"1.0\" encoding=\"UTF-8\" standalone=\"no\"?>\n<!DOCTYPE svg PUBLIC \"-//W3C//DTD SVG 1.1//EN\"\n \"http://www.w3.org/Graphics/SVG/1.1/DTD/svg11.dtd\">\n<!-- Generated by graphviz version 2.40.1 (20161225.0304)\n -->\n<!-- Title: Tree Pages: 1 -->\n<svg width=\"1094pt\" height=\"433pt\"\n viewBox=\"0.00 0.00 1094.00 433.00\" xmlns=\"http://www.w3.org/2000/svg\" xmlns:xlink=\"http://www.w3.org/1999/xlink\">\n<g id=\"graph0\" class=\"graph\" transform=\"scale(1 1) rotate(0) translate(4 429)\">\n<title>Tree</title>\n<polygon fill=\"#ffffff\" stroke=\"transparent\" points=\"-4,4 -4,-429 1090,-429 1090,4 -4,4\"/>\n<!-- 0 -->\n<g id=\"node1\" class=\"node\">\n<title>0</title>\n<path fill=\"#e3f1fb\" stroke=\"#000000\" d=\"M578,-425C578,-425 462,-425 462,-425 456,-425 450,-419 450,-413 450,-413 450,-354 450,-354 450,-348 456,-342 462,-342 462,-342 578,-342 578,-342 584,-342 590,-348 590,-354 590,-354 590,-413 590,-413 590,-419 584,-425 578,-425\"/>\n<text text-anchor=\"start\" x=\"458\" y=\"-409.8\" font-family=\"Helvetica,sans-Serif\" font-size=\"14.00\" fill=\"#000000\">fixedacidity ≤ 10.45</text>\n<text text-anchor=\"start\" x=\"482\" y=\"-394.8\" font-family=\"Helvetica,sans-Serif\" font-size=\"14.00\" fill=\"#000000\">gini = 0.497</text>\n<text text-anchor=\"start\" x=\"468\" y=\"-379.8\" font-family=\"Helvetica,sans-Serif\" font-size=\"14.00\" fill=\"#000000\">samples = 2030</text>\n<text text-anchor=\"start\" x=\"458\" y=\"-364.8\" font-family=\"Helvetica,sans-Serif\" font-size=\"14.00\" fill=\"#000000\">value = [938, 1092]</text>\n<text text-anchor=\"start\" x=\"491\" y=\"-349.8\" font-family=\"Helvetica,sans-Serif\" font-size=\"14.00\" fill=\"#000000\">class = 0</text>\n</g>\n<!-- 1 -->\n<g id=\"node2\" class=\"node\">\n<title>1</title>\n<path fill=\"#eb9f68\" stroke=\"#000000\" d=\"M487,-306C487,-306 379,-306 379,-306 373,-306 367,-300 367,-294 367,-294 367,-235 367,-235 367,-229 373,-223 379,-223 379,-223 487,-223 487,-223 493,-223 499,-229 499,-235 499,-235 499,-294 499,-294 499,-300 493,-306 487,-306\"/>\n<text text-anchor=\"start\" x=\"375.5\" y=\"-290.8\" font-family=\"Helvetica,sans-Serif\" font-size=\"14.00\" fill=\"#000000\">sulphates ≤ 11.55</text>\n<text text-anchor=\"start\" x=\"399.5\" y=\"-275.8\" font-family=\"Helvetica,sans-Serif\" font-size=\"14.00\" fill=\"#000000\">gini = 0.31</text>\n<text text-anchor=\"start\" x=\"385\" y=\"-260.8\" font-family=\"Helvetica,sans-Serif\" font-size=\"14.00\" fill=\"#000000\">samples = 752</text>\n<text text-anchor=\"start\" x=\"375\" y=\"-245.8\" font-family=\"Helvetica,sans-Serif\" font-size=\"14.00\" fill=\"#000000\">value = [608, 144]</text>\n<text text-anchor=\"start\" x=\"404\" y=\"-230.8\" font-family=\"Helvetica,sans-Serif\" font-size=\"14.00\" fill=\"#000000\">class = 1</text>\n</g>\n<!-- 0&#45;&gt;1 -->\n<g id=\"edge1\" class=\"edge\">\n<title>0&#45;&gt;1</title>\n<path fill=\"none\" stroke=\"#000000\" d=\"M489.5716,-341.8796C483.1189,-333.0534 476.243,-323.6485 469.5887,-314.5466\"/>\n<polygon fill=\"#000000\" stroke=\"#000000\" points=\"472.2856,-312.3051 463.5583,-306.2981 466.6347,-316.4364 472.2856,-312.3051\"/>\n<text text-anchor=\"middle\" x=\"459.7208\" y=\"-327.3018\" font-family=\"Helvetica,sans-Serif\" font-size=\"14.00\" fill=\"#000000\">True</text>\n</g>\n<!-- 8 -->\n<g id=\"node9\" class=\"node\">\n<title>8</title>\n<path fill=\"#7ebfee\" stroke=\"#000000\" d=\"M690,-306C690,-306 582,-306 582,-306 576,-306 570,-300 570,-294 570,-294 570,-235 570,-235 570,-229 576,-223 582,-223 582,-223 690,-223 690,-223 696,-223 702,-229 702,-235 702,-235 702,-294 702,-294 702,-300 696,-306 690,-306\"/>\n<text text-anchor=\"start\" x=\"586.5\" y=\"-290.8\" font-family=\"Helvetica,sans-Serif\" font-size=\"14.00\" fill=\"#000000\">alcohol ≤ 0.425</text>\n<text text-anchor=\"start\" x=\"598\" y=\"-275.8\" font-family=\"Helvetica,sans-Serif\" font-size=\"14.00\" fill=\"#000000\">gini = 0.383</text>\n<text text-anchor=\"start\" x=\"584\" y=\"-260.8\" font-family=\"Helvetica,sans-Serif\" font-size=\"14.00\" fill=\"#000000\">samples = 1278</text>\n<text text-anchor=\"start\" x=\"578\" y=\"-245.8\" font-family=\"Helvetica,sans-Serif\" font-size=\"14.00\" fill=\"#000000\">value = [330, 948]</text>\n<text text-anchor=\"start\" x=\"607\" y=\"-230.8\" font-family=\"Helvetica,sans-Serif\" font-size=\"14.00\" fill=\"#000000\">class = 0</text>\n</g>\n<!-- 0&#45;&gt;8 -->\n<g id=\"edge8\" class=\"edge\">\n<title>0&#45;&gt;8</title>\n<path fill=\"none\" stroke=\"#000000\" d=\"M560.5712,-341.8796C569.4382,-332.7832 578.9044,-323.0722 588.0291,-313.7116\"/>\n<polygon fill=\"#000000\" stroke=\"#000000\" points=\"590.7817,-315.9019 595.2557,-306.2981 585.7691,-311.0158 590.7817,-315.9019\"/>\n<text text-anchor=\"middle\" x=\"595.5748\" y=\"-327.596\" font-family=\"Helvetica,sans-Serif\" font-size=\"14.00\" fill=\"#000000\">False</text>\n</g>\n<!-- 2 -->\n<g id=\"node3\" class=\"node\">\n<title>2</title>\n<path fill=\"#e99558\" stroke=\"#000000\" d=\"M262,-187C262,-187 146,-187 146,-187 140,-187 134,-181 134,-175 134,-175 134,-116 134,-116 134,-110 140,-104 146,-104 146,-104 262,-104 262,-104 268,-104 274,-110 274,-116 274,-116 274,-175 274,-175 274,-181 268,-187 262,-187\"/>\n<text text-anchor=\"start\" x=\"142\" y=\"-171.8\" font-family=\"Helvetica,sans-Serif\" font-size=\"14.00\" fill=\"#000000\">fixedacidity ≤ 9.975</text>\n<text text-anchor=\"start\" x=\"166\" y=\"-156.8\" font-family=\"Helvetica,sans-Serif\" font-size=\"14.00\" fill=\"#000000\">gini = 0.233</text>\n<text text-anchor=\"start\" x=\"156\" y=\"-141.8\" font-family=\"Helvetica,sans-Serif\" font-size=\"14.00\" fill=\"#000000\">samples = 662</text>\n<text text-anchor=\"start\" x=\"150\" y=\"-126.8\" font-family=\"Helvetica,sans-Serif\" font-size=\"14.00\" fill=\"#000000\">value = [573, 89]</text>\n<text text-anchor=\"start\" x=\"175\" y=\"-111.8\" font-family=\"Helvetica,sans-Serif\" font-size=\"14.00\" fill=\"#000000\">class = 1</text>\n</g>\n<!-- 1&#45;&gt;2 -->\n<g id=\"edge2\" class=\"edge\">\n<title>1&#45;&gt;2</title>\n<path fill=\"none\" stroke=\"#000000\" d=\"M366.7637,-230.0803C340.6544,-216.5125 310.4469,-200.8152 283.1964,-186.6545\"/>\n<polygon fill=\"#000000\" stroke=\"#000000\" points=\"284.5659,-183.4218 274.0786,-181.9164 281.3381,-189.6332 284.5659,-183.4218\"/>\n</g>\n<!-- 5 -->\n<g id=\"node6\" class=\"node\">\n<title>5</title>\n<path fill=\"#b7dbf6\" stroke=\"#000000\" d=\"M499,-187C499,-187 367,-187 367,-187 361,-187 355,-181 355,-175 355,-175 355,-116 355,-116 355,-110 361,-104 367,-104 367,-104 499,-104 499,-104 505,-104 511,-110 511,-116 511,-116 511,-175 511,-175 511,-181 505,-187 499,-187\"/>\n<text text-anchor=\"start\" x=\"363\" y=\"-171.8\" font-family=\"Helvetica,sans-Serif\" font-size=\"14.00\" fill=\"#000000\">residualsugar ≤ 0.655</text>\n<text text-anchor=\"start\" x=\"395\" y=\"-156.8\" font-family=\"Helvetica,sans-Serif\" font-size=\"14.00\" fill=\"#000000\">gini = 0.475</text>\n<text text-anchor=\"start\" x=\"389\" y=\"-141.8\" font-family=\"Helvetica,sans-Serif\" font-size=\"14.00\" fill=\"#000000\">samples = 90</text>\n<text text-anchor=\"start\" x=\"383\" y=\"-126.8\" font-family=\"Helvetica,sans-Serif\" font-size=\"14.00\" fill=\"#000000\">value = [35, 55]</text>\n<text text-anchor=\"start\" x=\"404\" y=\"-111.8\" font-family=\"Helvetica,sans-Serif\" font-size=\"14.00\" fill=\"#000000\">class = 0</text>\n</g>\n<!-- 1&#45;&gt;5 -->\n<g id=\"edge5\" class=\"edge\">\n<title>1&#45;&gt;5</title>\n<path fill=\"none\" stroke=\"#000000\" d=\"M433,-222.8796C433,-214.6838 433,-205.9891 433,-197.5013\"/>\n<polygon fill=\"#000000\" stroke=\"#000000\" points=\"436.5001,-197.298 433,-187.2981 429.5001,-197.2981 436.5001,-197.298\"/>\n</g>\n<!-- 3 -->\n<g id=\"node4\" class=\"node\">\n<title>3</title>\n<path fill=\"#e68844\" stroke=\"#000000\" d=\"M112,-68C112,-68 12,-68 12,-68 6,-68 0,-62 0,-56 0,-56 0,-12 0,-12 0,-6 6,0 12,0 12,0 112,0 112,0 118,0 124,-6 124,-12 124,-12 124,-56 124,-56 124,-62 118,-68 112,-68\"/>\n<text text-anchor=\"start\" x=\"24\" y=\"-52.8\" font-family=\"Helvetica,sans-Serif\" font-size=\"14.00\" fill=\"#000000\">gini = 0.096</text>\n<text text-anchor=\"start\" x=\"14\" y=\"-37.8\" font-family=\"Helvetica,sans-Serif\" font-size=\"14.00\" fill=\"#000000\">samples = 456</text>\n<text text-anchor=\"start\" x=\"8\" y=\"-22.8\" font-family=\"Helvetica,sans-Serif\" font-size=\"14.00\" fill=\"#000000\">value = [433, 23]</text>\n<text text-anchor=\"start\" x=\"33\" y=\"-7.8\" font-family=\"Helvetica,sans-Serif\" font-size=\"14.00\" fill=\"#000000\">class = 1</text>\n</g>\n<!-- 2&#45;&gt;3 -->\n<g id=\"edge3\" class=\"edge\">\n<title>2&#45;&gt;3</title>\n<path fill=\"none\" stroke=\"#000000\" d=\"M151.1244,-103.9815C138.8345,-94.3313 125.7681,-84.0714 113.5368,-74.4673\"/>\n<polygon fill=\"#000000\" stroke=\"#000000\" points=\"115.6629,-71.6867 105.6362,-68.2637 111.3398,-77.1923 115.6629,-71.6867\"/>\n</g>\n<!-- 4 -->\n<g id=\"node5\" class=\"node\">\n<title>4</title>\n<path fill=\"#f1bc96\" stroke=\"#000000\" d=\"M254,-68C254,-68 154,-68 154,-68 148,-68 142,-62 142,-56 142,-56 142,-12 142,-12 142,-6 148,0 154,0 154,0 254,0 254,0 260,0 266,-6 266,-12 266,-12 266,-56 266,-56 266,-62 260,-68 254,-68\"/>\n<text text-anchor=\"start\" x=\"166\" y=\"-52.8\" font-family=\"Helvetica,sans-Serif\" font-size=\"14.00\" fill=\"#000000\">gini = 0.435</text>\n<text text-anchor=\"start\" x=\"156\" y=\"-37.8\" font-family=\"Helvetica,sans-Serif\" font-size=\"14.00\" fill=\"#000000\">samples = 206</text>\n<text text-anchor=\"start\" x=\"150\" y=\"-22.8\" font-family=\"Helvetica,sans-Serif\" font-size=\"14.00\" fill=\"#000000\">value = [140, 66]</text>\n<text text-anchor=\"start\" x=\"175\" y=\"-7.8\" font-family=\"Helvetica,sans-Serif\" font-size=\"14.00\" fill=\"#000000\">class = 1</text>\n</g>\n<!-- 2&#45;&gt;4 -->\n<g id=\"edge4\" class=\"edge\">\n<title>2&#45;&gt;4</title>\n<path fill=\"none\" stroke=\"#000000\" d=\"M204,-103.9815C204,-95.618 204,-86.7965 204,-78.3409\"/>\n<polygon fill=\"#000000\" stroke=\"#000000\" points=\"207.5001,-78.2636 204,-68.2637 200.5001,-78.2637 207.5001,-78.2636\"/>\n</g>\n<!-- 6 -->\n<g id=\"node7\" class=\"node\">\n<title>6</title>\n<path fill=\"#e58139\" stroke=\"#000000\" d=\"M379.5,-68C379.5,-68 296.5,-68 296.5,-68 290.5,-68 284.5,-62 284.5,-56 284.5,-56 284.5,-12 284.5,-12 284.5,-6 290.5,0 296.5,0 296.5,0 379.5,0 379.5,0 385.5,0 391.5,-6 391.5,-12 391.5,-12 391.5,-56 391.5,-56 391.5,-62 385.5,-68 379.5,-68\"/>\n<text text-anchor=\"start\" x=\"308.5\" y=\"-52.8\" font-family=\"Helvetica,sans-Serif\" font-size=\"14.00\" fill=\"#000000\">gini = 0.0</text>\n<text text-anchor=\"start\" x=\"294\" y=\"-37.8\" font-family=\"Helvetica,sans-Serif\" font-size=\"14.00\" fill=\"#000000\">samples = 19</text>\n<text text-anchor=\"start\" x=\"292.5\" y=\"-22.8\" font-family=\"Helvetica,sans-Serif\" font-size=\"14.00\" fill=\"#000000\">value = [19, 0]</text>\n<text text-anchor=\"start\" x=\"309\" y=\"-7.8\" font-family=\"Helvetica,sans-Serif\" font-size=\"14.00\" fill=\"#000000\">class = 1</text>\n</g>\n<!-- 5&#45;&gt;6 -->\n<g id=\"edge6\" class=\"edge\">\n<title>5&#45;&gt;6</title>\n<path fill=\"none\" stroke=\"#000000\" d=\"M397.6255,-103.9815C389.8732,-94.8828 381.6591,-85.242 373.8869,-76.1199\"/>\n<polygon fill=\"#000000\" stroke=\"#000000\" points=\"376.3428,-73.6056 367.1933,-68.2637 371.0146,-78.1454 376.3428,-73.6056\"/>\n</g>\n<!-- 7 -->\n<g id=\"node8\" class=\"node\">\n<title>7</title>\n<path fill=\"#73baed\" stroke=\"#000000\" d=\"M514,-68C514,-68 422,-68 422,-68 416,-68 410,-62 410,-56 410,-56 410,-12 410,-12 410,-6 416,0 422,0 422,0 514,0 514,0 520,0 526,-6 526,-12 526,-12 526,-56 526,-56 526,-62 520,-68 514,-68\"/>\n<text text-anchor=\"start\" x=\"430\" y=\"-52.8\" font-family=\"Helvetica,sans-Serif\" font-size=\"14.00\" fill=\"#000000\">gini = 0.349</text>\n<text text-anchor=\"start\" x=\"424\" y=\"-37.8\" font-family=\"Helvetica,sans-Serif\" font-size=\"14.00\" fill=\"#000000\">samples = 71</text>\n<text text-anchor=\"start\" x=\"418\" y=\"-22.8\" font-family=\"Helvetica,sans-Serif\" font-size=\"14.00\" fill=\"#000000\">value = [16, 55]</text>\n<text text-anchor=\"start\" x=\"439\" y=\"-7.8\" font-family=\"Helvetica,sans-Serif\" font-size=\"14.00\" fill=\"#000000\">class = 0</text>\n</g>\n<!-- 5&#45;&gt;7 -->\n<g id=\"edge7\" class=\"edge\">\n<title>5&#45;&gt;7</title>\n<path fill=\"none\" stroke=\"#000000\" d=\"M446.0327,-103.9815C448.6869,-95.5261 451.488,-86.6026 454.1688,-78.0623\"/>\n<polygon fill=\"#000000\" stroke=\"#000000\" points=\"457.5889,-78.8529 457.2446,-68.2637 450.9102,-76.7564 457.5889,-78.8529\"/>\n</g>\n<!-- 9 -->\n<g id=\"node10\" class=\"node\">\n<title>9</title>\n<path fill=\"#5baee9\" stroke=\"#000000\" d=\"M702,-187C702,-187 570,-187 570,-187 564,-187 558,-181 558,-175 558,-175 558,-116 558,-116 558,-110 564,-104 570,-104 570,-104 702,-104 702,-104 708,-104 714,-110 714,-116 714,-116 714,-175 714,-175 714,-181 708,-187 702,-187\"/>\n<text text-anchor=\"start\" x=\"566\" y=\"-171.8\" font-family=\"Helvetica,sans-Serif\" font-size=\"14.00\" fill=\"#000000\">residualsugar ≤ 0.615</text>\n<text text-anchor=\"start\" x=\"598\" y=\"-156.8\" font-family=\"Helvetica,sans-Serif\" font-size=\"14.00\" fill=\"#000000\">gini = 0.248</text>\n<text text-anchor=\"start\" x=\"588\" y=\"-141.8\" font-family=\"Helvetica,sans-Serif\" font-size=\"14.00\" fill=\"#000000\">samples = 766</text>\n<text text-anchor=\"start\" x=\"578\" y=\"-126.8\" font-family=\"Helvetica,sans-Serif\" font-size=\"14.00\" fill=\"#000000\">value = [111, 655]</text>\n<text text-anchor=\"start\" x=\"607\" y=\"-111.8\" font-family=\"Helvetica,sans-Serif\" font-size=\"14.00\" fill=\"#000000\">class = 0</text>\n</g>\n<!-- 8&#45;&gt;9 -->\n<g id=\"edge9\" class=\"edge\">\n<title>8&#45;&gt;9</title>\n<path fill=\"none\" stroke=\"#000000\" d=\"M636,-222.8796C636,-214.6838 636,-205.9891 636,-197.5013\"/>\n<polygon fill=\"#000000\" stroke=\"#000000\" points=\"639.5001,-197.298 636,-187.2981 632.5001,-197.2981 639.5001,-197.298\"/>\n</g>\n<!-- 12 -->\n<g id=\"node13\" class=\"node\">\n<title>12</title>\n<path fill=\"#cde6f8\" stroke=\"#000000\" d=\"M940,-187C940,-187 824,-187 824,-187 818,-187 812,-181 812,-175 812,-175 812,-116 812,-116 812,-110 818,-104 824,-104 824,-104 940,-104 940,-104 946,-104 952,-110 952,-116 952,-116 952,-175 952,-175 952,-181 946,-187 940,-187\"/>\n<text text-anchor=\"start\" x=\"820\" y=\"-171.8\" font-family=\"Helvetica,sans-Serif\" font-size=\"14.00\" fill=\"#000000\">fixedacidity ≤ 11.45</text>\n<text text-anchor=\"start\" x=\"848.5\" y=\"-156.8\" font-family=\"Helvetica,sans-Serif\" font-size=\"14.00\" fill=\"#000000\">gini = 0.49</text>\n<text text-anchor=\"start\" x=\"834\" y=\"-141.8\" font-family=\"Helvetica,sans-Serif\" font-size=\"14.00\" fill=\"#000000\">samples = 512</text>\n<text text-anchor=\"start\" x=\"824\" y=\"-126.8\" font-family=\"Helvetica,sans-Serif\" font-size=\"14.00\" fill=\"#000000\">value = [219, 293]</text>\n<text text-anchor=\"start\" x=\"853\" y=\"-111.8\" font-family=\"Helvetica,sans-Serif\" font-size=\"14.00\" fill=\"#000000\">class = 0</text>\n</g>\n<!-- 8&#45;&gt;12 -->\n<g id=\"edge12\" class=\"edge\">\n<title>8&#45;&gt;12</title>\n<path fill=\"none\" stroke=\"#000000\" d=\"M702.2471,-232.4536C733.2057,-217.4777 770.3079,-199.5299 802.7438,-183.8394\"/>\n<polygon fill=\"#000000\" stroke=\"#000000\" points=\"804.2817,-186.9835 811.7597,-179.4781 801.2334,-180.682 804.2817,-186.9835\"/>\n</g>\n<!-- 10 -->\n<g id=\"node11\" class=\"node\">\n<title>10</title>\n<path fill=\"#8bc6f0\" stroke=\"#000000\" d=\"M648,-68C648,-68 556,-68 556,-68 550,-68 544,-62 544,-56 544,-56 544,-12 544,-12 544,-6 550,0 556,0 556,0 648,0 648,0 654,0 660,-6 660,-12 660,-12 660,-56 660,-56 660,-62 654,-68 648,-68\"/>\n<text text-anchor=\"start\" x=\"564\" y=\"-52.8\" font-family=\"Helvetica,sans-Serif\" font-size=\"14.00\" fill=\"#000000\">gini = 0.415</text>\n<text text-anchor=\"start\" x=\"554\" y=\"-37.8\" font-family=\"Helvetica,sans-Serif\" font-size=\"14.00\" fill=\"#000000\">samples = 136</text>\n<text text-anchor=\"start\" x=\"552\" y=\"-22.8\" font-family=\"Helvetica,sans-Serif\" font-size=\"14.00\" fill=\"#000000\">value = [40, 96]</text>\n<text text-anchor=\"start\" x=\"573\" y=\"-7.8\" font-family=\"Helvetica,sans-Serif\" font-size=\"14.00\" fill=\"#000000\">class = 0</text>\n</g>\n<!-- 9&#45;&gt;10 -->\n<g id=\"edge10\" class=\"edge\">\n<title>9&#45;&gt;10</title>\n<path fill=\"none\" stroke=\"#000000\" d=\"M623.3397,-103.9815C620.7613,-95.5261 618.0403,-86.6026 615.436,-78.0623\"/>\n<polygon fill=\"#000000\" stroke=\"#000000\" points=\"618.7127,-76.808 612.4481,-68.2637 612.0171,-78.8497 618.7127,-76.808\"/>\n</g>\n<!-- 11 -->\n<g id=\"node12\" class=\"node\">\n<title>11</title>\n<path fill=\"#52a9e8\" stroke=\"#000000\" d=\"M790,-68C790,-68 690,-68 690,-68 684,-68 678,-62 678,-56 678,-56 678,-12 678,-12 678,-6 684,0 690,0 690,0 790,0 790,0 796,0 802,-6 802,-12 802,-12 802,-56 802,-56 802,-62 796,-68 790,-68\"/>\n<text text-anchor=\"start\" x=\"710.5\" y=\"-52.8\" font-family=\"Helvetica,sans-Serif\" font-size=\"14.00\" fill=\"#000000\">gini = 0.2</text>\n<text text-anchor=\"start\" x=\"692\" y=\"-37.8\" font-family=\"Helvetica,sans-Serif\" font-size=\"14.00\" fill=\"#000000\">samples = 630</text>\n<text text-anchor=\"start\" x=\"686\" y=\"-22.8\" font-family=\"Helvetica,sans-Serif\" font-size=\"14.00\" fill=\"#000000\">value = [71, 559]</text>\n<text text-anchor=\"start\" x=\"711\" y=\"-7.8\" font-family=\"Helvetica,sans-Serif\" font-size=\"14.00\" fill=\"#000000\">class = 0</text>\n</g>\n<!-- 9&#45;&gt;11 -->\n<g id=\"edge11\" class=\"edge\">\n<title>9&#45;&gt;11</title>\n<path fill=\"none\" stroke=\"#000000\" d=\"M674.7258,-103.9815C683.2982,-94.7908 692.3865,-85.0472 700.971,-75.8436\"/>\n<polygon fill=\"#000000\" stroke=\"#000000\" points=\"703.7796,-77.9637 708.0411,-68.2637 698.6607,-73.1891 703.7796,-77.9637\"/>\n</g>\n<!-- 13 -->\n<g id=\"node14\" class=\"node\">\n<title>13</title>\n<path fill=\"#f3c6a5\" stroke=\"#000000\" d=\"M932,-68C932,-68 832,-68 832,-68 826,-68 820,-62 820,-56 820,-56 820,-12 820,-12 820,-6 826,0 832,0 832,0 932,0 932,0 938,0 944,-6 944,-12 944,-12 944,-56 944,-56 944,-62 938,-68 932,-68\"/>\n<text text-anchor=\"start\" x=\"844\" y=\"-52.8\" font-family=\"Helvetica,sans-Serif\" font-size=\"14.00\" fill=\"#000000\">gini = 0.457</text>\n<text text-anchor=\"start\" x=\"834\" y=\"-37.8\" font-family=\"Helvetica,sans-Serif\" font-size=\"14.00\" fill=\"#000000\">samples = 238</text>\n<text text-anchor=\"start\" x=\"828\" y=\"-22.8\" font-family=\"Helvetica,sans-Serif\" font-size=\"14.00\" fill=\"#000000\">value = [154, 84]</text>\n<text text-anchor=\"start\" x=\"853\" y=\"-7.8\" font-family=\"Helvetica,sans-Serif\" font-size=\"14.00\" fill=\"#000000\">class = 1</text>\n</g>\n<!-- 12&#45;&gt;13 -->\n<g id=\"edge13\" class=\"edge\">\n<title>12&#45;&gt;13</title>\n<path fill=\"none\" stroke=\"#000000\" d=\"M882,-103.9815C882,-95.618 882,-86.7965 882,-78.3409\"/>\n<polygon fill=\"#000000\" stroke=\"#000000\" points=\"885.5001,-78.2636 882,-68.2637 878.5001,-78.2637 885.5001,-78.2636\"/>\n</g>\n<!-- 14 -->\n<g id=\"node15\" class=\"node\">\n<title>14</title>\n<path fill=\"#77bbed\" stroke=\"#000000\" d=\"M1074,-68C1074,-68 974,-68 974,-68 968,-68 962,-62 962,-56 962,-56 962,-12 962,-12 962,-6 968,0 974,0 974,0 1074,0 1074,0 1080,0 1086,-6 1086,-12 1086,-12 1086,-56 1086,-56 1086,-62 1080,-68 1074,-68\"/>\n<text text-anchor=\"start\" x=\"986\" y=\"-52.8\" font-family=\"Helvetica,sans-Serif\" font-size=\"14.00\" fill=\"#000000\">gini = 0.362</text>\n<text text-anchor=\"start\" x=\"976\" y=\"-37.8\" font-family=\"Helvetica,sans-Serif\" font-size=\"14.00\" fill=\"#000000\">samples = 274</text>\n<text text-anchor=\"start\" x=\"970\" y=\"-22.8\" font-family=\"Helvetica,sans-Serif\" font-size=\"14.00\" fill=\"#000000\">value = [65, 209]</text>\n<text text-anchor=\"start\" x=\"995\" y=\"-7.8\" font-family=\"Helvetica,sans-Serif\" font-size=\"14.00\" fill=\"#000000\">class = 0</text>\n</g>\n<!-- 12&#45;&gt;14 -->\n<g id=\"edge14\" class=\"edge\">\n<title>12&#45;&gt;14</title>\n<path fill=\"none\" stroke=\"#000000\" d=\"M934.8756,-103.9815C947.1655,-94.3313 960.2319,-84.0714 972.4632,-74.4673\"/>\n<polygon fill=\"#000000\" stroke=\"#000000\" points=\"974.6602,-77.1923 980.3638,-68.2637 970.3371,-71.6867 974.6602,-77.1923\"/>\n</g>\n</g>\n</svg>\n"
          },
          "metadata": {
            "tags": []
          },
          "execution_count": 58
        }
      ]
    }
  ]
}